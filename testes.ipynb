{
 "cells": [
  {
   "cell_type": "code",
   "execution_count": 24,
   "metadata": {},
   "outputs": [
    {
     "name": "stdout",
     "output_type": "stream",
     "text": [
      "opa\n"
     ]
    },
    {
     "data": {
      "text/plain": [
       "'6FAabpbqQbU8B4k78oux1m'"
      ]
     },
     "execution_count": 24,
     "metadata": {},
     "output_type": "execute_result"
    }
   ],
   "source": [
    "def _get_id_from_url( url: str) -> str:\n",
    "        for i in range(len(url) -1, -1, -1 ):\n",
    "            if url[i] == \"/\": \n",
    "                for j in range(i+1, len(url)-1):\n",
    "                    if not url[j].isalnum():\n",
    "                        return url[i+1:j]\n",
    "                return url[i+1:]\n",
    "        return url\n",
    "    \n",
    "_get_id_from_url(\"https://open.spotify.com/intl-pt/track/6FAabpbqQbU8B4k78oux1m?si=562abbfe36794888\")"
   ]
  },
  {
   "cell_type": "code",
   "execution_count": null,
   "metadata": {},
   "outputs": [],
   "source": []
  }
 ],
 "metadata": {
  "kernelspec": {
   "display_name": "venv",
   "language": "python",
   "name": "python3"
  },
  "language_info": {
   "codemirror_mode": {
    "name": "ipython",
    "version": 3
   },
   "file_extension": ".py",
   "mimetype": "text/x-python",
   "name": "python",
   "nbconvert_exporter": "python",
   "pygments_lexer": "ipython3",
   "version": "3.10.12"
  }
 },
 "nbformat": 4,
 "nbformat_minor": 2
}
